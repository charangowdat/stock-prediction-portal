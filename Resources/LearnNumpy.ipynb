{
 "cells": [
  {
   "cell_type": "code",
   "execution_count": 1,
   "id": "3f3d77d3-8a0d-45c7-ab5b-2dd7abd9b13d",
   "metadata": {},
   "outputs": [],
   "source": [
    "import numpy as np"
   ]
  },
  {
   "cell_type": "code",
   "execution_count": 2,
   "id": "b1cf1748-0f13-482e-a4b5-c419016b2641",
   "metadata": {},
   "outputs": [
    {
     "data": {
      "text/plain": [
       "'2.3.3'"
      ]
     },
     "execution_count": 2,
     "metadata": {},
     "output_type": "execute_result"
    }
   ],
   "source": [
    "np.__version__\n"
   ]
  },
  {
   "cell_type": "markdown",
   "id": "d71dda7f-90e5-4d68-885d-5ebcd8bd24cb",
   "metadata": {},
   "source": [
    "## Create & Read"
   ]
  },
  {
   "cell_type": "markdown",
   "id": "75e7d08d-7f6c-4004-8cfd-32f116c80abb",
   "metadata": {},
   "source": [
    "#### 1D Array"
   ]
  },
  {
   "cell_type": "code",
   "execution_count": 3,
   "id": "1f892e90-1a6e-4730-abdd-d07a2087f5a6",
   "metadata": {},
   "outputs": [
    {
     "data": {
      "text/plain": [
       "array([1, 2, 3, 4, 5, 6, 7, 8, 9])"
      ]
     },
     "execution_count": 3,
     "metadata": {},
     "output_type": "execute_result"
    }
   ],
   "source": [
    "arr1 = np.array([1,2,3,4,5,6,7,8,9])\n",
    "arr1"
   ]
  },
  {
   "cell_type": "code",
   "execution_count": 6,
   "id": "8f7fffb9-38a4-4fcb-861c-837c875c3000",
   "metadata": {},
   "outputs": [
    {
     "data": {
      "text/plain": [
       "numpy.ndarray"
      ]
     },
     "execution_count": 6,
     "metadata": {},
     "output_type": "execute_result"
    }
   ],
   "source": [
    "type(arr1)"
   ]
  },
  {
   "cell_type": "code",
   "execution_count": 8,
   "id": "2e120ba6-aedc-4c72-9608-7187215353e0",
   "metadata": {},
   "outputs": [
    {
     "data": {
      "text/plain": [
       "(9,)"
      ]
     },
     "execution_count": 8,
     "metadata": {},
     "output_type": "execute_result"
    }
   ],
   "source": [
    "arr1.shape"
   ]
  },
  {
   "cell_type": "code",
   "execution_count": 9,
   "id": "7da1083e-5f7c-455a-b66f-b75a47d660a4",
   "metadata": {},
   "outputs": [
    {
     "data": {
      "text/plain": [
       "dtype('int64')"
      ]
     },
     "execution_count": 9,
     "metadata": {},
     "output_type": "execute_result"
    }
   ],
   "source": [
    "arr1.dtype"
   ]
  },
  {
   "cell_type": "code",
   "execution_count": 10,
   "id": "f2ff812f-1eca-4b28-99c0-bf434aeefc10",
   "metadata": {},
   "outputs": [
    {
     "data": {
      "text/plain": [
       "1"
      ]
     },
     "execution_count": 10,
     "metadata": {},
     "output_type": "execute_result"
    }
   ],
   "source": [
    "arr1.ndim"
   ]
  },
  {
   "cell_type": "code",
   "execution_count": 11,
   "id": "0c28afe8-fcb0-4332-9430-c5c40c1137a8",
   "metadata": {},
   "outputs": [
    {
     "data": {
      "text/plain": [
       "9"
      ]
     },
     "execution_count": 11,
     "metadata": {},
     "output_type": "execute_result"
    }
   ],
   "source": [
    "arr1.size"
   ]
  },
  {
   "cell_type": "markdown",
   "id": "525eb594-d1ee-4797-9ae9-3bc99febe191",
   "metadata": {},
   "source": [
    "#### 2D Array"
   ]
  },
  {
   "cell_type": "code",
   "execution_count": 22,
   "id": "e904d9b8-5920-4e33-b8a3-f346c2f5a276",
   "metadata": {},
   "outputs": [],
   "source": [
    "arr2 = np.array([[1,4,5], [6,7,4]])"
   ]
  },
  {
   "cell_type": "code",
   "execution_count": 23,
   "id": "e860c41a-0203-4450-a752-3d08e0f3dd3e",
   "metadata": {},
   "outputs": [
    {
     "data": {
      "text/plain": [
       "array([[1, 4, 5],\n",
       "       [6, 7, 4]])"
      ]
     },
     "execution_count": 23,
     "metadata": {},
     "output_type": "execute_result"
    }
   ],
   "source": [
    "arr2"
   ]
  },
  {
   "cell_type": "code",
   "execution_count": 24,
   "id": "8ddd5830-0fcf-4981-b0d7-e077f5971b73",
   "metadata": {},
   "outputs": [
    {
     "data": {
      "text/plain": [
       "(2, 3)"
      ]
     },
     "execution_count": 24,
     "metadata": {},
     "output_type": "execute_result"
    }
   ],
   "source": [
    "arr2.shape #row X col"
   ]
  },
  {
   "cell_type": "code",
   "execution_count": 25,
   "id": "4b851c6a-04b0-4a71-bafe-6d43d0705213",
   "metadata": {},
   "outputs": [
    {
     "data": {
      "text/plain": [
       "dtype('int64')"
      ]
     },
     "execution_count": 25,
     "metadata": {},
     "output_type": "execute_result"
    }
   ],
   "source": [
    "arr2.dtype"
   ]
  },
  {
   "cell_type": "code",
   "execution_count": 26,
   "id": "5c078ea1-0700-4e5d-a649-a3f0675daea4",
   "metadata": {},
   "outputs": [
    {
     "data": {
      "text/plain": [
       "6"
      ]
     },
     "execution_count": 26,
     "metadata": {},
     "output_type": "execute_result"
    }
   ],
   "source": [
    "arr2.size"
   ]
  },
  {
   "cell_type": "code",
   "execution_count": 27,
   "id": "72fd50bf-6291-4572-a9e3-541ff9410cbe",
   "metadata": {},
   "outputs": [
    {
     "data": {
      "text/plain": [
       "2"
      ]
     },
     "execution_count": 27,
     "metadata": {},
     "output_type": "execute_result"
    }
   ],
   "source": [
    "arr2.ndim"
   ]
  },
  {
   "cell_type": "markdown",
   "id": "099b75e3-e01f-49e7-a157-41cbf9d3f481",
   "metadata": {},
   "source": [
    "#### 3D array"
   ]
  },
  {
   "cell_type": "code",
   "execution_count": 31,
   "id": "d95e7e9d-a920-41f3-8924-059f7bfb31b0",
   "metadata": {},
   "outputs": [
    {
     "data": {
      "text/plain": [
       "array([[[1, 2, 3],\n",
       "        [4, 5, 6]],\n",
       "\n",
       "       [[3, 5, 7],\n",
       "        [4, 6, 8]]])"
      ]
     },
     "execution_count": 31,
     "metadata": {},
     "output_type": "execute_result"
    }
   ],
   "source": [
    "arr3 = np.array([[[1,2,3],[4,5,6]],[[3,5,7],[4,6,8]]])\n",
    "arr3"
   ]
  },
  {
   "cell_type": "code",
   "execution_count": 32,
   "id": "98e234a1-ba16-4082-984c-3404ef56207d",
   "metadata": {},
   "outputs": [
    {
     "data": {
      "text/plain": [
       "12"
      ]
     },
     "execution_count": 32,
     "metadata": {},
     "output_type": "execute_result"
    }
   ],
   "source": [
    "arr3.size"
   ]
  },
  {
   "cell_type": "code",
   "execution_count": 33,
   "id": "cac9a870-76d6-42bf-844d-6777f3c9ecb0",
   "metadata": {},
   "outputs": [
    {
     "data": {
      "text/plain": [
       "(2, 2, 3)"
      ]
     },
     "execution_count": 33,
     "metadata": {},
     "output_type": "execute_result"
    }
   ],
   "source": [
    "arr3.shape"
   ]
  },
  {
   "cell_type": "code",
   "execution_count": 35,
   "id": "44785c3c-a57a-4b50-bd32-6459baa7cb88",
   "metadata": {},
   "outputs": [
    {
     "data": {
      "text/plain": [
       "3"
      ]
     },
     "execution_count": 35,
     "metadata": {},
     "output_type": "execute_result"
    }
   ],
   "source": [
    "arr3.ndim"
   ]
  },
  {
   "cell_type": "markdown",
   "id": "043df842-e6f2-40cf-be54-70d106ae6ad0",
   "metadata": {},
   "source": [
    "### Create random array"
   ]
  },
  {
   "cell_type": "code",
   "execution_count": 38,
   "id": "afabb344-b8db-47cd-8bb6-70d11800d916",
   "metadata": {},
   "outputs": [
    {
     "data": {
      "text/plain": [
       "array([[[0.48733293, 0.08455107, 0.47654929],\n",
       "        [0.47815714, 0.3307147 , 0.39415919]],\n",
       "\n",
       "       [[0.7939097 , 0.50408484, 0.07276128],\n",
       "        [0.56050529, 0.42155288, 0.63648059]],\n",
       "\n",
       "       [[0.43529175, 0.1591877 , 0.83508109],\n",
       "        [0.9795566 , 0.99110899, 0.52507705]]])"
      ]
     },
     "execution_count": 38,
     "metadata": {},
     "output_type": "execute_result"
    }
   ],
   "source": [
    "randomarr = np.random.rand(3,2,3)\n",
    "randomarr"
   ]
  },
  {
   "cell_type": "code",
   "execution_count": 110,
   "id": "032a64b9-2e2c-49e0-9926-576dab64fef4",
   "metadata": {},
   "outputs": [],
   "source": [
    "zeros = np.zeros((3, 2, 3))\n"
   ]
  },
  {
   "cell_type": "code",
   "execution_count": 47,
   "id": "678ceed2-cd7a-4056-a634-76427b2af7c5",
   "metadata": {},
   "outputs": [
    {
     "data": {
      "text/plain": [
       "array([[[9, 9, 9],\n",
       "        [9, 9, 9]],\n",
       "\n",
       "       [[9, 9, 9],\n",
       "        [9, 9, 9]],\n",
       "\n",
       "       [[9, 9, 9],\n",
       "        [9, 9, 9]]])"
      ]
     },
     "execution_count": 47,
     "metadata": {},
     "output_type": "execute_result"
    }
   ],
   "source": [
    "np.full((3,2,3),9)"
   ]
  },
  {
   "cell_type": "code",
   "execution_count": 49,
   "id": "fc89bd83-cdea-43c2-b4e0-0d287691ec21",
   "metadata": {},
   "outputs": [
    {
     "data": {
      "text/plain": [
       "array([[[1., 1., 1., 1., 1., 1., 1., 1., 1., 1., 1., 1.],\n",
       "        [1., 1., 1., 1., 1., 1., 1., 1., 1., 1., 1., 1.],\n",
       "        [1., 1., 1., 1., 1., 1., 1., 1., 1., 1., 1., 1.]],\n",
       "\n",
       "       [[1., 1., 1., 1., 1., 1., 1., 1., 1., 1., 1., 1.],\n",
       "        [1., 1., 1., 1., 1., 1., 1., 1., 1., 1., 1., 1.],\n",
       "        [1., 1., 1., 1., 1., 1., 1., 1., 1., 1., 1., 1.]]])"
      ]
     },
     "execution_count": 49,
     "metadata": {},
     "output_type": "execute_result"
    }
   ],
   "source": [
    "np.ones((2,3,12))"
   ]
  },
  {
   "cell_type": "code",
   "execution_count": 69,
   "id": "5b6cdd5e-1dd2-450f-8bd9-833c5e970c03",
   "metadata": {},
   "outputs": [
    {
     "data": {
      "text/plain": [
       "np.int64(5)"
      ]
     },
     "execution_count": 69,
     "metadata": {},
     "output_type": "execute_result"
    }
   ],
   "source": [
    "arr3[1][0][1]"
   ]
  },
  {
   "cell_type": "code",
   "execution_count": 70,
   "id": "ac7f65a4-0c85-4ee6-93a6-eda6de3b75d1",
   "metadata": {},
   "outputs": [
    {
     "data": {
      "text/plain": [
       "np.int64(5)"
      ]
     },
     "execution_count": 70,
     "metadata": {},
     "output_type": "execute_result"
    }
   ],
   "source": [
    "arr3[1,0,1]"
   ]
  },
  {
   "cell_type": "code",
   "execution_count": 71,
   "id": "374e5e98-6ab2-4935-a22d-a6ecc1cd461f",
   "metadata": {},
   "outputs": [],
   "source": [
    "a1 = np.random.rand(2,3,2)\n",
    "a2 = np.random.rand(2,3,2)"
   ]
  },
  {
   "cell_type": "code",
   "execution_count": 72,
   "id": "4fbd8b50-8bde-4564-9d4f-358fdfd10c22",
   "metadata": {},
   "outputs": [
    {
     "data": {
      "text/plain": [
       "array([[[0.39787398, 1.72459898],\n",
       "        [1.01457668, 1.22513812],\n",
       "        [1.19925248, 0.62112082]],\n",
       "\n",
       "       [[0.3815722 , 1.55999252],\n",
       "        [0.79261329, 1.58904939],\n",
       "        [0.14224021, 0.96057375]]])"
      ]
     },
     "execution_count": 72,
     "metadata": {},
     "output_type": "execute_result"
    }
   ],
   "source": [
    "np.add(a1,a2)"
   ]
  },
  {
   "cell_type": "code",
   "execution_count": 73,
   "id": "e3599bfd-8390-4f2a-909e-2687fbfa8fcc",
   "metadata": {},
   "outputs": [
    {
     "data": {
      "text/plain": [
       "array([[[-0.32016325,  0.02245895],\n",
       "        [-0.59234735,  0.03816558],\n",
       "        [ 0.41272204, -0.11899267]],\n",
       "\n",
       "       [[-0.33078999, -0.12271877],\n",
       "        [-0.09249364, -0.08406155],\n",
       "        [-0.13440224, -0.80127078]]])"
      ]
     },
     "execution_count": 73,
     "metadata": {},
     "output_type": "execute_result"
    }
   ],
   "source": [
    "np.subtract(a2,a1)"
   ]
  },
  {
   "cell_type": "code",
   "execution_count": 74,
   "id": "472ae60b-2b0e-4576-a524-5a2a3c1faac5",
   "metadata": {},
   "outputs": [
    {
     "data": {
      "text/plain": [
       "array([[[1.39497999e-02, 7.43434307e-01],\n",
       "        [1.69622616e-01, 3.74876698e-01],\n",
       "        [3.16966760e-01, 9.29079526e-02]],\n",
       "\n",
       "       [[9.04383239e-03, 6.04629194e-01],\n",
       "        [1.54920190e-01, 6.29502903e-01],\n",
       "        [5.42078993e-04, 7.01667670e-02]]])"
      ]
     },
     "execution_count": 74,
     "metadata": {},
     "output_type": "execute_result"
    }
   ],
   "source": [
    "np.multiply(a1,a2)"
   ]
  },
  {
   "cell_type": "code",
   "execution_count": 75,
   "id": "e83efe77-9ee7-4d0e-9395-4fbf8a324df6",
   "metadata": {},
   "outputs": [
    {
     "data": {
      "text/plain": [
       "array([[[ 9.2398719 ,  0.9742894 ],\n",
       "        [ 3.80580863,  0.93957813],\n",
       "        [ 0.48792983,  1.47395342]],\n",
       "\n",
       "       [[14.02778919,  1.17076603],\n",
       "        [ 1.26422239,  1.1117106 ],\n",
       "        [35.29515542, 11.0597092 ]]])"
      ]
     },
     "execution_count": 75,
     "metadata": {},
     "output_type": "execute_result"
    }
   ],
   "source": [
    "np.divide(a1,a2)"
   ]
  },
  {
   "cell_type": "code",
   "execution_count": 77,
   "id": "ecbf58cd-43ef-427a-90d8-8707c732068c",
   "metadata": {},
   "outputs": [],
   "source": [
    "sqrt = np.sqrt(25)\n",
    "abs = np.abs(-2)\n",
    "power = np.power(2,5)\n",
    "log = np.log(4)\n",
    "min = np.min(a1)\n",
    "max = np.max(a2)"
   ]
  },
  {
   "cell_type": "code",
   "execution_count": 80,
   "id": "305d1b58-6f56-4ebf-bc26-07b6925a5de5",
   "metadata": {},
   "outputs": [
    {
     "data": {
      "text/plain": [
       "np.float64(1.3862943611198906)"
      ]
     },
     "execution_count": 80,
     "metadata": {},
     "output_type": "execute_result"
    }
   ],
   "source": [
    "log"
   ]
  },
  {
   "cell_type": "code",
   "execution_count": 81,
   "id": "51a3f8c7-8f05-4a3e-98b9-d31331265c75",
   "metadata": {},
   "outputs": [
    {
     "data": {
      "text/plain": [
       "array([[[1, 2, 3],\n",
       "        [4, 5, 6]],\n",
       "\n",
       "       [[3, 5, 7],\n",
       "        [4, 6, 8]]])"
      ]
     },
     "execution_count": 81,
     "metadata": {},
     "output_type": "execute_result"
    }
   ],
   "source": [
    " arr3"
   ]
  },
  {
   "cell_type": "code",
   "execution_count": 82,
   "id": "81e77f28-a2d4-4541-9a40-77553a783641",
   "metadata": {},
   "outputs": [],
   "source": [
    "arr3[0][0][1] = 10"
   ]
  },
  {
   "cell_type": "code",
   "execution_count": 83,
   "id": "4fb2bb1d-c48b-45b0-aeb0-27896d300da9",
   "metadata": {},
   "outputs": [
    {
     "data": {
      "text/plain": [
       "array([[[ 1, 10,  3],\n",
       "        [ 4,  5,  6]],\n",
       "\n",
       "       [[ 3,  5,  7],\n",
       "        [ 4,  6,  8]]])"
      ]
     },
     "execution_count": 83,
     "metadata": {},
     "output_type": "execute_result"
    }
   ],
   "source": [
    "arr3"
   ]
  },
  {
   "cell_type": "code",
   "execution_count": 85,
   "id": "1f03251c-0121-49c0-85a5-aad004cc92e6",
   "metadata": {},
   "outputs": [
    {
     "data": {
      "text/plain": [
       "array([[[ 1,  3, 10],\n",
       "        [ 4,  5,  6]],\n",
       "\n",
       "       [[ 3,  5,  7],\n",
       "        [ 4,  6,  8]]])"
      ]
     },
     "execution_count": 85,
     "metadata": {},
     "output_type": "execute_result"
    }
   ],
   "source": [
    "arr3.sort()\n",
    "arr3"
   ]
  },
  {
   "cell_type": "code",
   "execution_count": 86,
   "id": "b775711d-5bac-44e1-9e63-d3220338e2ee",
   "metadata": {},
   "outputs": [
    {
     "data": {
      "text/plain": [
       "(2, 2, 3)"
      ]
     },
     "execution_count": 86,
     "metadata": {},
     "output_type": "execute_result"
    }
   ],
   "source": [
    "arr3.shape"
   ]
  },
  {
   "cell_type": "code",
   "execution_count": 94,
   "id": "7bb4c315-1f02-4ee4-9ae3-9b2582c90ee9",
   "metadata": {},
   "outputs": [
    {
     "data": {
      "text/plain": [
       "array([[[ 1,  3],\n",
       "        [10,  4]],\n",
       "\n",
       "       [[ 5,  6],\n",
       "        [ 3,  5]],\n",
       "\n",
       "       [[ 7,  4],\n",
       "        [ 6,  8]]])"
      ]
     },
     "execution_count": 94,
     "metadata": {},
     "output_type": "execute_result"
    }
   ],
   "source": [
    "arr3_reshape = arr3.reshape((3,2,-1))\n",
    "arr3_reshape"
   ]
  },
  {
   "cell_type": "markdown",
   "id": "335ad908-9857-4817-a19c-25aa322b81f6",
   "metadata": {},
   "source": [
    "### Appending and inserting"
   ]
  },
  {
   "cell_type": "code",
   "execution_count": 103,
   "id": "010c540d-acdf-4dc3-827a-44ec02505c7d",
   "metadata": {},
   "outputs": [
    {
     "data": {
      "text/plain": [
       "array([[[1., 1., 1.],\n",
       "        [1., 1., 1.]],\n",
       "\n",
       "       [[1., 1., 1.],\n",
       "        [1., 1., 1.]],\n",
       "\n",
       "       [[1., 1., 1.],\n",
       "        [1., 1., 1.]]])"
      ]
     },
     "execution_count": 103,
     "metadata": {},
     "output_type": "execute_result"
    }
   ],
   "source": [
    "new = np.ones((3, 2, 3))\n",
    "new"
   ]
  },
  {
   "cell_type": "code",
   "execution_count": 106,
   "id": "827663de-8c0b-47d9-9561-5d7fc8e518b6",
   "metadata": {},
   "outputs": [
    {
     "data": {
      "text/plain": [
       "array([[[ 1.,  3., 10.],\n",
       "        [ 4.,  5.,  6.]],\n",
       "\n",
       "       [[ 3.,  5.,  7.],\n",
       "        [ 4.,  6.,  8.]],\n",
       "\n",
       "       [[ 1.,  1.,  1.],\n",
       "        [ 1.,  1.,  1.]],\n",
       "\n",
       "       [[ 1.,  1.,  1.],\n",
       "        [ 1.,  1.,  1.]],\n",
       "\n",
       "       [[ 1.,  1.,  1.],\n",
       "        [ 1.,  1.,  1.]]])"
      ]
     },
     "execution_count": 106,
     "metadata": {},
     "output_type": "execute_result"
    }
   ],
   "source": [
    "appd = np.append(arr3, new, axis=0)\n",
    "appd"
   ]
  },
  {
   "cell_type": "code",
   "execution_count": 113,
   "id": "5a8102b9-2903-4a4a-8fa0-58eb0e2c1ee9",
   "metadata": {},
   "outputs": [
    {
     "data": {
      "text/plain": [
       "array([[[0., 0., 0.],\n",
       "        [0., 0., 0.]],\n",
       "\n",
       "       [[1., 1., 1.],\n",
       "        [1., 1., 1.]],\n",
       "\n",
       "       [[1., 1., 1.],\n",
       "        [1., 1., 1.]],\n",
       "\n",
       "       [[1., 1., 1.],\n",
       "        [1., 1., 1.]],\n",
       "\n",
       "       [[0., 0., 0.],\n",
       "        [0., 0., 0.]],\n",
       "\n",
       "       [[0., 0., 0.],\n",
       "        [0., 0., 0.]]])"
      ]
     },
     "execution_count": 113,
     "metadata": {},
     "output_type": "execute_result"
    }
   ],
   "source": [
    "insert = np.insert(zeros, 1, new, axis = 0)\n",
    "insert"
   ]
  },
  {
   "cell_type": "markdown",
   "id": "8c657d99-b3d6-4dde-8b4e-2efcf1e4dd92",
   "metadata": {},
   "source": [
    "### Save And delete Arrays"
   ]
  },
  {
   "cell_type": "code",
   "execution_count": 115,
   "id": "16465ed1-7346-484e-ae90-f2a6fce7d010",
   "metadata": {},
   "outputs": [
    {
     "data": {
      "text/plain": [
       "array([[[0.99726421, 0.40171838, 0.08670718, 0.48315283, 0.16828997],\n",
       "        [0.47960274, 0.2731463 , 0.56195408, 0.73966773, 0.95117979],\n",
       "        [0.60001251, 0.35317659, 0.0610993 , 0.10963954, 0.27445792],\n",
       "        [0.84140663, 0.98355473, 0.1154458 , 0.55762749, 0.9204795 ]],\n",
       "\n",
       "       [[0.60001043, 0.9325634 , 0.833716  , 0.61539579, 0.26454813],\n",
       "        [0.37554882, 0.93161972, 0.59424287, 0.55115273, 0.95879306],\n",
       "        [0.77523917, 0.52351241, 0.20123681, 0.13350809, 0.4561445 ],\n",
       "        [0.42137071, 0.03624645, 0.7401312 , 0.27582288, 0.66868064]],\n",
       "\n",
       "       [[0.26612868, 0.68238652, 0.29571721, 0.00458969, 0.19439857],\n",
       "        [0.16728039, 0.7264106 , 0.78899781, 0.12275466, 0.79205165],\n",
       "        [0.96958751, 0.65115529, 0.07761783, 0.99738696, 0.00780991],\n",
       "        [0.51590748, 0.24127362, 0.61554592, 0.26721253, 0.5791551 ]]])"
      ]
     },
     "execution_count": 115,
     "metadata": {},
     "output_type": "execute_result"
    }
   ],
   "source": [
    "arr4 = np.random.rand(3,4,5)\n",
    "arr4"
   ]
  },
  {
   "cell_type": "code",
   "execution_count": 122,
   "id": "91f6a5ac-138a-4db5-a364-1acfdfc3cfb3",
   "metadata": {},
   "outputs": [],
   "source": [
    "arr5 = np.delete(arr4, 0, axis=1)"
   ]
  },
  {
   "cell_type": "code",
   "execution_count": 123,
   "id": "21091e0c-0240-4abc-a502-3d0256b5e805",
   "metadata": {},
   "outputs": [
    {
     "data": {
      "text/plain": [
       "array([[[0.47960274, 0.2731463 , 0.56195408, 0.73966773, 0.95117979],\n",
       "        [0.60001251, 0.35317659, 0.0610993 , 0.10963954, 0.27445792],\n",
       "        [0.84140663, 0.98355473, 0.1154458 , 0.55762749, 0.9204795 ]],\n",
       "\n",
       "       [[0.37554882, 0.93161972, 0.59424287, 0.55115273, 0.95879306],\n",
       "        [0.77523917, 0.52351241, 0.20123681, 0.13350809, 0.4561445 ],\n",
       "        [0.42137071, 0.03624645, 0.7401312 , 0.27582288, 0.66868064]],\n",
       "\n",
       "       [[0.16728039, 0.7264106 , 0.78899781, 0.12275466, 0.79205165],\n",
       "        [0.96958751, 0.65115529, 0.07761783, 0.99738696, 0.00780991],\n",
       "        [0.51590748, 0.24127362, 0.61554592, 0.26721253, 0.5791551 ]]])"
      ]
     },
     "execution_count": 123,
     "metadata": {},
     "output_type": "execute_result"
    }
   ],
   "source": [
    "arr5"
   ]
  },
  {
   "cell_type": "code",
   "execution_count": 124,
   "id": "3bf4d636-bcc9-4df0-ab0d-ef3774b1c97d",
   "metadata": {},
   "outputs": [],
   "source": [
    "np.save(\"new_array\", arr5)"
   ]
  },
  {
   "cell_type": "code",
   "execution_count": 125,
   "id": "77415a26-8ff4-4c2a-b83c-7020bfc15cf4",
   "metadata": {},
   "outputs": [
    {
     "data": {
      "text/plain": [
       "array([[[0.47960274, 0.2731463 , 0.56195408, 0.73966773, 0.95117979],\n",
       "        [0.60001251, 0.35317659, 0.0610993 , 0.10963954, 0.27445792],\n",
       "        [0.84140663, 0.98355473, 0.1154458 , 0.55762749, 0.9204795 ]],\n",
       "\n",
       "       [[0.37554882, 0.93161972, 0.59424287, 0.55115273, 0.95879306],\n",
       "        [0.77523917, 0.52351241, 0.20123681, 0.13350809, 0.4561445 ],\n",
       "        [0.42137071, 0.03624645, 0.7401312 , 0.27582288, 0.66868064]],\n",
       "\n",
       "       [[0.16728039, 0.7264106 , 0.78899781, 0.12275466, 0.79205165],\n",
       "        [0.96958751, 0.65115529, 0.07761783, 0.99738696, 0.00780991],\n",
       "        [0.51590748, 0.24127362, 0.61554592, 0.26721253, 0.5791551 ]]])"
      ]
     },
     "execution_count": 125,
     "metadata": {},
     "output_type": "execute_result"
    }
   ],
   "source": [
    "np.load(\"new_array.npy\")"
   ]
  },
  {
   "cell_type": "code",
   "execution_count": null,
   "id": "4f307188-996d-4f10-8719-f87b9e8dc12e",
   "metadata": {},
   "outputs": [],
   "source": []
  }
 ],
 "metadata": {
  "kernelspec": {
   "display_name": "Python 3 (ipykernel)",
   "language": "python",
   "name": "python3"
  },
  "language_info": {
   "codemirror_mode": {
    "name": "ipython",
    "version": 3
   },
   "file_extension": ".py",
   "mimetype": "text/x-python",
   "name": "python",
   "nbconvert_exporter": "python",
   "pygments_lexer": "ipython3",
   "version": "3.13.7"
  }
 },
 "nbformat": 4,
 "nbformat_minor": 5
}
